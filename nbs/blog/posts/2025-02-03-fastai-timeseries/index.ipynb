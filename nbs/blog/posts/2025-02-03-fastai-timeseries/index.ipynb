{
 "cells": [
  {
   "cell_type": "raw",
   "id": "58f9f2af-ac6c-4c2a-b023-f74457daf5ee",
   "metadata": {},
   "source": [
    "---\n",
    "title: \"Tweaking fastai tabular for time series data\"\n",
    "author: \"Ozell Paukert\"\n",
    "date: \"2025-02-03\"\n",
    "categories: [fastai, kaggle, tips]\n",
    "draft: true\n",
    "---"
   ]
  },
  {
   "cell_type": "markdown",
   "id": "469b2941-1be4-4f24-833e-b04a9f8de20b",
   "metadata": {},
   "source": [
    "You can make your model considerably more powerful by careful feature engineering for timeseries data.\n",
    "\n",
    "Sources:\n",
    "- <https://www.kaggle.com/learn/time-series>\n",
    "- <https://www.kaggle.com/competitions/playground-series-s5e1>\n",
    "\n",
    "Main ideas:\n",
    "- Add calendar periodic features\n",
    "  - Need to combine test and train data together for this to work properly\n",
    "- Add autoregressive features\n",
    "- Augment with external data:\n",
    "  - Currency exchange rate\n",
    "  - Census (there are predictive data for this)"
   ]
  },
  {
   "cell_type": "code",
   "execution_count": null,
   "id": "5fa5e15f-5279-4cd0-a246-3954f2f41f3a",
   "metadata": {},
   "outputs": [],
   "source": []
  }
 ],
 "metadata": {
  "kernelspec": {
   "display_name": "python3",
   "language": "python",
   "name": "python3"
  }
 },
 "nbformat": 4,
 "nbformat_minor": 5
}
