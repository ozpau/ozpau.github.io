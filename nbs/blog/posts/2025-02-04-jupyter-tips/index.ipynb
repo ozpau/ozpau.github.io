{
 "cells": [
  {
   "cell_type": "raw",
   "id": "58f9f2af-ac6c-4c2a-b023-f74457daf5ee",
   "metadata": {},
   "source": [
    "---\n",
    "title: \"Jupyter tips\"\n",
    "author: \"Ozell Paukert\"\n",
    "date: \"2025-02-03\"\n",
    "image: cover.jpg\n",
    "categories: [jupyter, tips]\n",
    "draft: false\n",
    "---"
   ]
  },
  {
   "cell_type": "markdown",
   "id": "24a2328a-8e84-43a6-b7de-6d19dd44ace8",
   "metadata": {},
   "source": [
    "![Public domain photo of planet Jupiter from [WikiMedia](https://commons.wikimedia.org/wiki/File:Jupiter_Showcases_Auroras,_Hazes_(NIRCam_Closeup).jpg)](cover.jpg)"
   ]
  },
  {
   "attachments": {},
   "cell_type": "markdown",
   "id": "505e0d4f-abda-4fcc-9de3-9add6506b4dc",
   "metadata": {},
   "source": [
    "A collection of Jupyter productivity tips.\n",
    "\n",
    "## Learn keybinds\n",
    "   - Press Ctrl+Shift+H to view a short summary\n",
    "   - There are two edit modes in Jupyter. Text edit inside cells and cell edit.\n",
    "     To leave cell edit mode, press ESC, to enter it press ENTER.\n",
    "     In cell edit, you can:\n",
    "     - drag cells around: Ctrl+Shift+Up/Down\n",
    "     - change their type: M, Y, R\n",
    "   - Global navigation (cell edit mode):\n",
    "     - Space to move down, Shift+Space to move up\n",
    "   - Ctrl+Enter vs Shift+Enter make a huge difference for cells thar produce lots of output.\n",
    "     Ctrl+Enter would keep cursor at current cell, allowing you to naturally scroll through the output from top to bottom.\n",
    "\n",
    "## Make your own shortcuts\n",
    "   - For example, ESC will take you out of cell edit mode AND will disable fullscreen. Very annoying.\n",
    "     Rebinding this to Ctrl+Space makes things much more convenient.\n",
    "     To change settings, in JupyterLab go to Settings->Settings Editor->Keyboard Shortcuts\n",
    "   - There are also extra settings you can change by editing a json file.\n",
    "\n",
    "## Run jupyter in standalone browser window\n",
    "   - This will allow you to use more shortcuts.\n",
    "   - This also gives you fullscreen which you can't turn off (so, no need to rebind ESC key anymore)\n",
    "   - To run jupyterlab in Firefox kiosk mode, run:\n",
    "     `firefox --kiosk --new-window http://localhost:8888/lab`\n",
    "   - After that, to navigate to other windows, use Alt+Tab, and to close window use Ctrl+W\n",
    "   - If you have multi-monitor setup, what I found to work is first move terminal from which you\n",
    "     enter this command to the monitor you want jupyterlab to start on.\n",
    "   - This works, but some things are broken. For example, clicking on links inside jupyter notebooks will break things.\n",
    "\n",
    "This solution is a bit hacky. If you can, try jupyterlab-desktop: <https://github.com/jupyterlab/jupyterlab-desktop>\n",
    "\n",
    "It handles link opening issue slightly better: it opens a new window. But still, it could have been\n",
    "better if it opened it in the default system browser instead. It is an open bug right now:\n",
    "<https://github.com/jupyterlab/jupyterlab-desktop/issues/618> (I have a patch that fixes it in my github repo if you need it)\n",
    "\n",
    "On the plus side, you can use it to connect to your own instance of jupyterlab.\n",
    "\n",
    "## Exception handling\n",
    "What if you have a cell that might raise an exception but you must step to the next cell (perhaps to do some cleanup?) even if there is an exception? This is where cell tags come into play.\n",
    "\n",
    "Select a cell, click on cogwheels on the right, then Common tools, and click add tag.\n",
    "Write `raises-exception` there and you are good to go. You can now write any cleanup code in the next cell.\n",
    "\n",
    "This can help you not having to restart the whole notebook just because you got an exception thrown out and you didn't do some critical cleanup.\n",
    "\n",
    "Also, if you are working on a single notebook, consider using classical Jupyter notebook. It has less crowded interface and is snappier.\n",
    "\n",
    "# Unsolved questions\n",
    "\n",
    "- How to persist the location inside a notebook on browser restart/reload?\n",
    "- How to run all cells without moving all the way to the bottom of the notebook,\n",
    "  and instead stay where you are?\n",
    "- Better monitoring? What if I have a lot of data to print? It's easy to do in terminal,\n",
    "  but jupyter cells don't follow the last input and so it's hard to track down what's going on\n",
    "  like that.\n",
    "- How do I enable emacs keybinds?\n",
    "- How do I search through code output? It seems that Ctrl+F in jupyter only searches through cell inputs, but ignores output.\n",
    "- Is it possible to use Makefile-style asset generation? I.e. run a notebook\n",
    "  only if some file is missing or notebook is newer than that file.\n",
    "  One issue: jupyter updates notebook timestamp even if notebook is not\n",
    "  newer. Solution: use `nbdev_clean` and then take the diff to see if notebook\n",
    "  was updated?\n",
    "- Can I inject one notebook into another notebook?\n",
    "  This way I wouldn't need to re-run the inner notebook if its target already exists."
   ]
  },
  {
   "cell_type": "code",
   "execution_count": null,
   "id": "3f9a32b6-ed2c-4fc1-98ae-0aee7452b726",
   "metadata": {},
   "outputs": [],
   "source": []
  }
 ],
 "metadata": {
  "kernelspec": {
   "display_name": "python3",
   "language": "python",
   "name": "python3"
  }
 },
 "nbformat": 4,
 "nbformat_minor": 5
}
